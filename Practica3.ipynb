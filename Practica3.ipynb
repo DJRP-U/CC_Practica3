{
  "nbformat": 4,
  "nbformat_minor": 0,
  "metadata": {
    "colab": {
      "name": "Practica3.ipynb",
      "provenance": [],
      "authorship_tag": "ABX9TyOYJUJjWH1Tc+okGMQT0b6A",
      "include_colab_link": true
    },
    "kernelspec": {
      "name": "python3",
      "display_name": "Python 3"
    },
    "language_info": {
      "name": "python"
    }
  },
  "cells": [
    {
      "cell_type": "markdown",
      "metadata": {
        "id": "view-in-github",
        "colab_type": "text"
      },
      "source": [
        "<a href=\"https://colab.research.google.com/github/DJRP-U/CC_Practica3/blob/main/Practica3.ipynb\" target=\"_parent\"><img src=\"https://colab.research.google.com/assets/colab-badge.svg\" alt=\"Open In Colab\"/></a>"
      ]
    },
    {
      "cell_type": "markdown",
      "source": [
        "# **Complejidad Computacional: practica 3**\n",
        "\n",
        "Unidad: Complejidad Algorítmica\n",
        "\n",
        "Profesor: Luis Chamba-Eras\n",
        "\n",
        "Estudiante: Diego Riofrío"
      ],
      "metadata": {
        "id": "6FbaICs24h87"
      }
    },
    {
      "cell_type": "markdown",
      "source": [
        "# Ejercicio 1 : Complejidad de un algoritmo y notación asintótica\n",
        "En todo algoritmo debemos tomar siempre en cuenta la eficiencia con la que trabaja. Debido a que los tiempos de ejecución varían según cada ordenador es necesario un método capaz de analizar la eficiencia de un algoritmo independientemente del ordenador, lenguaje o sistema operativo. De ahi la necesidad de implementar la **Notación Asintótica**\n",
        "\n",
        "Definir dos funciones para calcular la suma del 1 a n números. Una de ellas sumando uno a uno cada número, y otra aplicando la fórmula de la suma aritmética de Gaus."
      ],
      "metadata": {
        "id": "rv3BhTiPSwEW"
      }
    },
    {
      "cell_type": "code",
      "execution_count": null,
      "metadata": {
        "colab": {
          "base_uri": "https://localhost:8080/"
        },
        "id": "BIyNYVmV4euy",
        "outputId": "b2133a66-3a9c-4766-8899-06f62b4e8a9f"
      },
      "outputs": [
        {
          "output_type": "stream",
          "name": "stdout",
          "text": [
            "500500 - 8.344650268554688e-05\n",
            "500500 - 8.368492126464844e-05\n",
            "50005000 - 0.0006799697875976562\n",
            "50005000 - 0.0007333755493164062\n",
            "5000050000 - 0.006014108657836914\n",
            "5000050000 - 0.006803274154663086\n",
            "500000500000 - 0.051744699478149414\n",
            "500000500000 - 0.046645402908325195\n"
          ]
        }
      ],
      "source": [
        "import time\n",
        "\n",
        "def suma_lineal(n):\n",
        "  suma = 0\n",
        "  for i in range(1, n+1):\n",
        "    suma += i\n",
        "  return suma\n",
        "\n",
        "def suma_constante(n):\n",
        "  rta = (n / 2) * (n + 1)\n",
        "  return rta\n",
        "\n",
        "cantidad = 1000\n",
        "\n",
        "for i in range(4):\n",
        "  t0 = time.time()\n",
        "  suma1 = suma_lineal(cantidad)\n",
        "  t1 = time.time()\n",
        "  suma2 = suma_lineal(cantidad)\n",
        "  t2 = time.time()\n",
        "  print(\"{} - {}\".format(suma1,t1-t0))\n",
        "  print(\"{} - {}\".format(suma2,t2-t1))\n",
        "  cantidad *= 10"
      ]
    },
    {
      "cell_type": "markdown",
      "source": [
        "\n",
        "\n",
        "Hay distintos tipos de notación asintótica:\n",
        "* O grande (omicron): El peor de los casos\n",
        "* Ω grande (Omega): El mejor de los casos\n",
        "* Θ grande (Theta): El caso promedio\n",
        "\n",
        "Lo importante es analizar el comportamiento de los algoritmos de acuerdo a la cantidad de datos ingresados. A medida que crecen los datos con el tiempo, puede que tome mas en ejecutarse.\n",
        "\n",
        "Los elementos para medir la eficiencia de un algoritmo son:\n",
        "* Complejidad de tiempo (Tiempo de ejecución)\n",
        "* Complejidad de espacio (Uso de memoria)\n",
        "\n",
        "Cuando el numero de pasos crece de acuerdo a la cantidad de datos ingresados, se considera una complejidad lineal (vease *suma_lineal*)\n",
        "\n",
        "Cuando los datos ingresados crece, pero el número de pasos se mantiene el mismo, estamos ante una complejidad constante (vease *suma_constante*)\n"
      ],
      "metadata": {
        "id": "wbmMVtRKTRYb"
      }
    },
    {
      "cell_type": "markdown",
      "source": [
        "# Ejercicio 2 : O(1) & O(n)"
      ],
      "metadata": {
        "id": "i8R2VAj-W8Iu"
      }
    },
    {
      "cell_type": "code",
      "source": [
        "lista_datos = [12, 26, 39, 25, 11, 18, 42, 31, 17, 23, 42, 55, 80]\n",
        "\n",
        "dato_buscado = 80\n",
        "\n",
        "def busqueda_lineal(lista, buscar):\n",
        "    for elemento in lista:\n",
        "      if elemento == buscar:\n",
        "        return True\n",
        "    return False\n",
        "    #if buscar in lista:\n",
        "    #  return True\n",
        "    #return False\n",
        "\n",
        "if busqueda_lineal(lista_datos, dato_buscado):\n",
        "  print(\"Dato Encontrado\")\n",
        "else:\n",
        "  print(\"Dato NO Encontrado\")"
      ],
      "metadata": {
        "id": "i63dJsutRkZJ",
        "colab": {
          "base_uri": "https://localhost:8080/"
        },
        "outputId": "2199ec2d-0b11-43cf-9380-0582cecd1f71"
      },
      "execution_count": 10,
      "outputs": [
        {
          "output_type": "stream",
          "name": "stdout",
          "text": [
            "Dato Encontrado\n"
          ]
        }
      ]
    },
    {
      "cell_type": "markdown",
      "source": [
        "El anterior algoritmo es de busqueda lineal. En estos casos, el mejor de los casos sería buscar el primer número de la lista [12], mientras que si se busca el último numero de la lista [80], seran *n* las operaciones que realice"
      ],
      "metadata": {
        "id": "60or5cc0XEpt"
      }
    },
    {
      "cell_type": "markdown",
      "source": [
        "# Ejercicio 3 : O(n^2) & O(n^a)"
      ],
      "metadata": {
        "id": "UNt__kEeYX2q"
      }
    },
    {
      "cell_type": "code",
      "source": [
        "cantidades = [12, 23, 41, 36, 28, 54, 35, 46, 52, 19, 27]\n",
        "numero = 76\n",
        "\n",
        "def suma_dos(lista, valor):\n",
        "  pares = []\n",
        "  for i in lista:\n",
        "    for j in lista:\n",
        "      if i + j == valor:\n",
        "        pares.append([i,j])\n",
        "  return pares\n",
        "\n",
        "\n",
        "print(\"Resultado:\", suma_dos(cantidades, numero))"
      ],
      "metadata": {
        "id": "GSu7fbCcSQ77",
        "colab": {
          "base_uri": "https://localhost:8080/"
        },
        "outputId": "72e1b7ba-3396-4275-c4dd-fedaadcb9c30"
      },
      "execution_count": 11,
      "outputs": [
        {
          "output_type": "stream",
          "name": "stdout",
          "text": [
            "Resultado: [[41, 35], [35, 41]]\n"
          ]
        }
      ]
    },
    {
      "cell_type": "markdown",
      "source": [
        "Este algoritmo comprueba si dos de los números de la lista se suman en el número indicado. El orden de complejidad sería de O(n*n) o Cuadrática\n",
        "\n",
        "Otro ejemplo sería con un algoritmo que sume **tres** números:"
      ],
      "metadata": {
        "id": "ErwW12SFY0ol"
      }
    },
    {
      "cell_type": "code",
      "source": [
        "cantidades = [12, 23, 41, 36, 28, 54, 35, 46, 52, 19, 27]\n",
        "numero = 76\n",
        "\n",
        "def suma_tres(lista, valor):\n",
        "  trios = []\n",
        "  for i in lista:\n",
        "    for j in lista:\n",
        "      for k in lista:\n",
        "        if i + j + k == valor:\n",
        "          trios.append([i, j, k])\n",
        "          #print(i, j, k)\n",
        "      \n",
        "  return trios\n",
        "\n",
        "print(\"Resultado: \", suma_tres(cantidades, numero))"
      ],
      "metadata": {
        "colab": {
          "base_uri": "https://localhost:8080/"
        },
        "id": "S-KIfS7raPnr",
        "outputId": "53781219-7040-4578-8a85-77846a0eaaaf"
      },
      "execution_count": 12,
      "outputs": [
        {
          "output_type": "stream",
          "name": "stdout",
          "text": [
            "Resultado:  [[12, 12, 52], [12, 23, 41], [12, 41, 23], [12, 36, 28], [12, 28, 36], [12, 52, 12], [23, 12, 41], [23, 41, 12], [41, 12, 23], [41, 23, 12], [36, 12, 28], [36, 28, 12], [28, 12, 36], [28, 36, 12], [52, 12, 12]]\n"
          ]
        }
      ]
    },
    {
      "cell_type": "markdown",
      "source": [
        "El orden de complejidad sería de O(n * n * n) o Polinomial, debido a que este puede incrementar *n* numero de veces el \"número de elmentos\" para la búsqueda."
      ],
      "metadata": {
        "id": "DNjIKl0gaatn"
      }
    },
    {
      "cell_type": "markdown",
      "source": [
        "# Ejercicio 3: Coches y motos\n",
        "\n",
        "\"Extraer el número de coches y el número de motos que pasan por una autopista, a partir del número de vehículos que cuenta una cámara, y el número de ruedas que cuentan unas gomas en el suelo. Hacerlo con el algoritmo más eficiente.\"\n",
        "\n"
      ],
      "metadata": {
        "id": "-cjPTLPNbA25"
      }
    },
    {
      "cell_type": "markdown",
      "source": [
        "Solución Ineficiente"
      ],
      "metadata": {
        "id": "l4aFNW1qcHd2"
      }
    },
    {
      "cell_type": "code",
      "source": [
        "# Algoritmo O(n^2)\n",
        "def extraccion_1(vehiculos, ruedas):\n",
        "\n",
        "  for coches in range(vehiculos+1):\n",
        "    for motos in range(vehiculos+1):\n",
        "      if((coches+motos) == vehiculos) and ((coches*4 + motos*2) == ruedas):\n",
        "        return coches, motos\n",
        "  return None"
      ],
      "metadata": {
        "id": "G01b_ISnSUK-"
      },
      "execution_count": 13,
      "outputs": []
    },
    {
      "cell_type": "markdown",
      "source": [
        "Solución media Eficiente"
      ],
      "metadata": {
        "id": "Y7xKCjEOcEzh"
      }
    },
    {
      "cell_type": "code",
      "source": [
        "# Algoritmo O(n)\n",
        "def extraccion_2(vehiculos, ruedas):\n",
        "  \n",
        "  for coches in range(vehiculos+1):\n",
        "    motos = vehiculos - coches\n",
        "    if coches * 4 +  motos * 2 == ruedas:\n",
        "        return coches, motos\n",
        "  return None"
      ],
      "metadata": {
        "id": "PYbyE-NbSdbT"
      },
      "execution_count": 14,
      "outputs": []
    },
    {
      "cell_type": "markdown",
      "source": [
        "Solución Eficiente:"
      ],
      "metadata": {
        "id": "rAf1fqLLb_Uu"
      }
    },
    {
      "cell_type": "code",
      "source": [
        "# Algoritmo O(1)\n",
        "def extraccion_3(vehiculos, ruedas):\n",
        "  \n",
        "  coches = ruedas / 2 - vehiculos\n",
        "  motos = vehiculos - coches\n",
        "\n",
        "  if int(coches) + int(motos) == vehiculos:\n",
        "      return int(coches), int(motos)\n",
        "  else:\n",
        "      return None"
      ],
      "metadata": {
        "id": "mpDdL8IzSfbj"
      },
      "execution_count": 15,
      "outputs": []
    },
    {
      "cell_type": "markdown",
      "source": [
        "# Ejercicio 4: Algoritmos de búsqueda"
      ],
      "metadata": {
        "id": "z-2lwPHzcbxW"
      }
    },
    {
      "cell_type": "markdown",
      "source": [
        "Búsqueda binaria:\n",
        "* Algoritmo que permite la búsqueda de un elemento de acuerdo a la división de la lista en la que se encuentre, reduciendo las posibles ubicaciones hasta dar con una."
      ],
      "metadata": {
        "id": "2V0GiTodckch"
      }
    },
    {
      "cell_type": "code",
      "source": [
        "datos = [2, 3, 5, 6, 8, 11, 12, 15, 17, 18, 21, 23, 24, 29, 30]\n",
        "buscado = 6\n",
        "\n",
        "def busqueda_binaria(lista, elemento):\n",
        "  inicio = 0\n",
        "  final = len(lista)-1\n",
        "\n",
        "  while inicio <= final:\n",
        "    medio = (inicio + final) // 2\n",
        "    if lista[medio] == elemento:\n",
        "      return True\n",
        "    elif lista[medio] < elemento:\n",
        "      inicio = medio + 1\n",
        "    elif lista[medio] > elemento:\n",
        "      final = medio - 1\n",
        "  return False\n",
        "\n",
        "print (busqueda_binaria(datos, buscado))"
      ],
      "metadata": {
        "id": "ayHCxCeCSihA",
        "colab": {
          "base_uri": "https://localhost:8080/"
        },
        "outputId": "a3279188-5284-467e-93cf-1440bf84f9e8"
      },
      "execution_count": 17,
      "outputs": [
        {
          "output_type": "stream",
          "name": "stdout",
          "text": [
            "True\n"
          ]
        }
      ]
    },
    {
      "cell_type": "markdown",
      "source": [
        "agregamos una cantidad mayor, 15000000 datos"
      ],
      "metadata": {
        "id": "faMABSPEdoy9"
      }
    },
    {
      "cell_type": "code",
      "source": [
        "datos = [] \n",
        "for i in range(15000000): \n",
        "  datos.append(i)\n",
        "\n",
        "def busqueda_binaria(lista, elemento):\n",
        "  pasos = 0 \n",
        "  inicio = 0\n",
        "  final = len(lista)-1\n",
        "\n",
        "  while inicio <= final:\n",
        "    pasos += 1\n",
        "    medio = (inicio + final) // 2\n",
        "    if lista[medio] == elemento:\n",
        "      return True, pasos\n",
        "    elif lista[medio] < elemento:\n",
        "      inicio = medio + 1\n",
        "    elif lista[medio] > elemento:\n",
        "      final = medio - 1\n",
        "  return False, pasos\n",
        "\n",
        "print (busqueda_binaria(datos, 12347))"
      ],
      "metadata": {
        "id": "POWDoza1Sla2",
        "colab": {
          "base_uri": "https://localhost:8080/"
        },
        "outputId": "85dd17e5-e447-46e7-e3a2-7d72d04cf3b5"
      },
      "execution_count": 18,
      "outputs": [
        {
          "output_type": "stream",
          "name": "stdout",
          "text": [
            "(True, 24)\n"
          ]
        }
      ]
    },
    {
      "cell_type": "markdown",
      "source": [
        "Esto nos da como resultado una complejidad Logarítmica O(log n), debido a que el logaritmo de n sería el número de veces que se divide la lista "
      ],
      "metadata": {
        "id": "oIvoEBNvd6_l"
      }
    },
    {
      "cell_type": "markdown",
      "source": [
        "# Ejercicio 5: Algoritmos de censo"
      ],
      "metadata": {
        "id": "yADnTGnlepAV"
      }
    },
    {
      "cell_type": "code",
      "source": [
        "import random\n",
        "\n",
        "censo = []\n",
        "alfabeto = \"ABCDEFGIJAEIOULMNOPRSTUAEIOU\"\n",
        "numero = 0\n",
        "\n",
        "print(\"Creando censo ...\")\n",
        "\n",
        "for i in range(500_000):\n",
        "  aumento = random.randint(1,2)\n",
        "  numero += aumento\n",
        "  \n",
        "  letras = random.sample(alfabeto, 5)\n",
        "  nombre = \"\".join(letras)\n",
        "\n",
        "  edad = random.randint(18, 99)\n",
        "\n",
        "  impuestos = random.choice((True, True, True, False))\n",
        "\n",
        "  censo.append([numero, nombre, edad, impuestos])\n",
        "\n",
        "  if len(censo) % 100_000 == 0:\n",
        "    print(\"Creados \", len(censo), \" registros\")\n",
        "\n",
        "print(\"Censo creado\")\n",
        "print(\"Ultimo registro: \", censo[-1])\n",
        "\n",
        "def busqueda_numero(lista, elemento): # Busca registros por número: Binaria\n",
        "  inicio = 0\n",
        "  final = len(lista)-1\n",
        "\n",
        "  while inicio <= final:\n",
        "    medio = (inicio + final) // 2\n",
        "    if lista[medio][0] == elemento:\n",
        "      return lista[medio]\n",
        "    elif lista[medio][0] < elemento:\n",
        "      inicio = medio + 1\n",
        "    elif lista[medio][0] > elemento:\n",
        "      final = medio - 1\n",
        "  return None\n",
        "\n",
        "\n",
        "def busqueda_nombre(lista, elemento): # Busca registros por nombre: Lineal\n",
        "  encontrados = []\n",
        "\n",
        "  for registro in lista:\n",
        "    if registro[1] == elemento:\n",
        "      encontrados.append(registro)\n",
        "  if len(encontrados) == 0:\n",
        "    return None\n",
        "  else:\n",
        "    return encontrados\n",
        "\n",
        "\n",
        "def muestra_registro(registro):\n",
        "  if registro == None:\n",
        "    print(\"NO existe registro con ese dato\")\n",
        "  else:\n",
        "    print(\"-------------------------------\")\n",
        "    print(\"Número: \", registro[0])\n",
        "    print(\"Nombre: \", registro[1])\n",
        "    print(\"Edad: \", registro[2])\n",
        "    print(\"Impuestos: \", registro[3])\n",
        "\n",
        "\n",
        "def menu():\n",
        "  print(\"-------------------------------\")\n",
        "  print(\"---   CENSO DE POBLACIÓN    ---\")\n",
        "  print(\"-------------------------------\")\n",
        "  print(\"1. Buscar por número\")\n",
        "  print(\"2. Buscar por nombre\")\n",
        "  print(\"3. Salir\")\n",
        "  opcion = \"\"\n",
        "  while opcion not in (\"1\", \"2\", \"3\"):\n",
        "    opcion = input(\"--> \")\n",
        "  return opcion\n",
        "\n",
        "while True:\n",
        "  op = menu()\n",
        "  if op == \"1\":\n",
        "    try:\n",
        "      numero = int(input(\"Introduce número: \"))\n",
        "    except ValueError:\n",
        "      print(\"Introduce un número entero\")\n",
        "    else:\n",
        "      registro = busqueda_numero(censo, numero)\n",
        "      muestra_registro(registro)\n",
        "\n",
        "  elif op == \"2\":\n",
        "    nombre = input(\"Introduce nombre: \").upper()\n",
        "    registros =  busqueda_nombre(censo, nombre)\n",
        "    if registros == None:\n",
        "      print(\"NO existe registro con ese dato\")\n",
        "    else:\n",
        "      for registro in registros:\n",
        "        muestra_registro(registro)\n",
        "\n",
        "  elif op == \"3\":\n",
        "    break"
      ],
      "metadata": {
        "id": "K_vQ9hObSpPk",
        "colab": {
          "base_uri": "https://localhost:8080/"
        },
        "outputId": "bc3e68da-21bb-467c-c4ed-defc2331d002"
      },
      "execution_count": 20,
      "outputs": [
        {
          "name": "stdout",
          "output_type": "stream",
          "text": [
            "Creando censo ...\n",
            "Creados  100000  registros\n",
            "Creados  200000  registros\n",
            "Creados  300000  registros\n",
            "Creados  400000  registros\n",
            "Creados  500000  registros\n",
            "Censo creado\n",
            "Ultimo registro:  [750121, 'EULJE', 21, False]\n",
            "-------------------------------\n",
            "---   CENSO DE POBLACIÓN    ---\n",
            "-------------------------------\n",
            "1. Buscar por número\n",
            "2. Buscar por nombre\n",
            "3. Salir\n",
            "--> 1\n",
            "Introduce número: 20\n",
            "-------------------------------\n",
            "Número:  20\n",
            "Nombre:  GCUNA\n",
            "Edad:  20\n",
            "Impuestos:  True\n",
            "-------------------------------\n",
            "---   CENSO DE POBLACIÓN    ---\n",
            "-------------------------------\n",
            "1. Buscar por número\n",
            "2. Buscar por nombre\n",
            "3. Salir\n",
            "--> 2\n",
            "Introduce nombre: GCUNA\n",
            "-------------------------------\n",
            "Número:  20\n",
            "Nombre:  GCUNA\n",
            "Edad:  20\n",
            "Impuestos:  True\n",
            "-------------------------------\n",
            "---   CENSO DE POBLACIÓN    ---\n",
            "-------------------------------\n",
            "1. Buscar por número\n",
            "2. Buscar por nombre\n",
            "3. Salir\n",
            "--> 3\n"
          ]
        }
      ]
    },
    {
      "cell_type": "code",
      "source": [
        ""
      ],
      "metadata": {
        "id": "6oFzh88TSrg2"
      },
      "execution_count": null,
      "outputs": []
    }
  ]
}